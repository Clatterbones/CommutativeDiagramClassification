{
 "cells": [
  {
   "cell_type": "markdown",
   "id": "b65c1f28",
   "metadata": {},
   "source": [
    "# Binary classification of commutative diagrams\n",
    "## 1. Data pipeline"
   ]
  },
  {
   "cell_type": "code",
   "execution_count": 23,
   "id": "b087f593",
   "metadata": {},
   "outputs": [],
   "source": [
    "import pandas as pd\n",
    "import numpy as np\n",
    "#import torch\n",
    "import os\n",
    "import shutil\n",
    "import random\n",
    "import math\n",
    "import tensorflow.keras as keras\n",
    "import matplotlib.pyplot as plt"
   ]
  },
  {
   "cell_type": "markdown",
   "id": "f1fbf2aa",
   "metadata": {},
   "source": [
    "### 1.1 Expand working directory with folders for training images"
   ]
  },
  {
   "cell_type": "code",
   "execution_count": 5,
   "id": "551ef7f0",
   "metadata": {},
   "outputs": [],
   "source": [
    "##\n",
    "unsortedSamplesDirName = 'png-2021-all_contexts'\n",
    "##\n",
    "\n",
    "cwd = os.getcwd()\n",
    "\n",
    "unsortedSamplesDir = os.path.join(cwd, unsortedSamplesDirName)\n",
    "assert('positive' in os.listdir(unsortedSamplesDir) and 'negative' in os.listdir(unsortedSamplesDir))\n",
    "unsortedPositiveSamplesDir = os.path.join(unsortedSamplesDir, 'positive')\n",
    "unsortedNegativeSamplesDir = os.path.join(unsortedSamplesDir, 'negative')\n",
    "\n",
    "sortedSamplesDir = os.path.join(cwd, 'sortedSamples')\n",
    "os.makedirs(sortedSamplesDir, exist_ok=True)\n",
    "\n",
    "trainDir = os.path.join(sortedSamplesDir, 'train')\n",
    "testDir = os.path.join(sortedSamplesDir, 'test')\n",
    "valDir = os.path.join(sortedSamplesDir, 'val')\n",
    "os.makedirs(trainDir, exist_ok=True)\n",
    "os.makedirs(testDir, exist_ok=True)\n",
    "os.makedirs(valDir, exist_ok=True)\n",
    "\n",
    "trainPositiveDir = os.path.join(trainDir, 'positive')\n",
    "trainNegativeDir = os.path.join(trainDir, 'negative')\n",
    "testPositiveDir = os.path.join(testDir, 'positive')\n",
    "testNegativeDir = os.path.join(testDir, 'negative')\n",
    "valPositiveDir = os.path.join(valDir, 'positive')\n",
    "valNegativeDir = os.path.join(valDir, 'negative')\n",
    "os.makedirs(trainPositiveDir, exist_ok=True)\n",
    "os.makedirs(trainNegativeDir, exist_ok=True)\n",
    "os.makedirs(testPositiveDir, exist_ok=True)\n",
    "os.makedirs(testNegativeDir, exist_ok=True)\n",
    "os.makedirs(valPositiveDir, exist_ok=True)\n",
    "os.makedirs(valNegativeDir, exist_ok=True)"
   ]
  },
  {
   "cell_type": "markdown",
   "id": "b3344b2e-0d63-41d6-aafa-eac29f9b7005",
   "metadata": {
    "tags": []
   },
   "source": [
    "### 1.2 Copy images into train, test and validation folders\n",
    "The code currently randomly truncates the greater partition between positive and negative to achieve parity."
   ]
  },
  {
   "cell_type": "code",
   "execution_count": 6,
   "id": "a8afd1c9-8b49-43ba-83b9-e9c9588b7788",
   "metadata": {},
   "outputs": [
    {
     "ename": "Exception",
     "evalue": "Sorted image directories are not empty.",
     "output_type": "error",
     "traceback": [
      "\u001b[1;31m---------------------------------------------------------------------------\u001b[0m",
      "\u001b[1;31mException\u001b[0m                                 Traceback (most recent call last)",
      "Input \u001b[1;32mIn [6]\u001b[0m, in \u001b[0;36m<cell line: 59>\u001b[1;34m()\u001b[0m\n\u001b[0;32m     62\u001b[0m     copyImagesInPartition(unsortedSamplesInfo, valCopyInfo)\n\u001b[0;32m     63\u001b[0m \u001b[38;5;28;01melse\u001b[39;00m:\n\u001b[1;32m---> 64\u001b[0m     \u001b[38;5;28;01mraise\u001b[39;00m \u001b[38;5;167;01mException\u001b[39;00m(\u001b[38;5;124m\"\u001b[39m\u001b[38;5;124mSorted image directories are not empty.\u001b[39m\u001b[38;5;124m\"\u001b[39m)\n\u001b[0;32m     66\u001b[0m \u001b[38;5;66;03m# TRASH: Is this actually more readable than the functions above?\u001b[39;00m\n\u001b[0;32m     67\u001b[0m \u001b[38;5;124;03m\"\"\"\u001b[39;00m\n\u001b[0;32m     68\u001b[0m \u001b[38;5;124;03mif all(size == 0 for size in sampleDirectorySizes):\u001b[39;00m\n\u001b[0;32m     69\u001b[0m \u001b[38;5;124;03m    for _ in range(math.floor(numTrainSamples*positiveRatio)):\u001b[39;00m\n\u001b[1;32m   (...)\u001b[0m\n\u001b[0;32m    104\u001b[0m \u001b[38;5;124;03melse:\u001b[39;00m\n\u001b[0;32m    105\u001b[0m \u001b[38;5;124;03m    raise Exception(\"Sorted image directories are not empty.\")\"\"\"\u001b[39;00m\n",
      "\u001b[1;31mException\u001b[0m: Sorted image directories are not empty."
     ]
    }
   ],
   "source": [
    "##\n",
    "trainRatio = 0.6\n",
    "testRatio = 0.2\n",
    "valRatio = 0.2\n",
    "assert(trainRatio + testRatio + valRatio == 1.)\n",
    "\n",
    "positiveRatio = 0.5 # Desired ratio of positive samples in the sorted data\n",
    "##\n",
    "\n",
    "\n",
    "positiveSamplesFilenameList = os.listdir(unsortedPositiveSamplesDir)\n",
    "negativeSamplesFilenameList = os.listdir(unsortedNegativeSamplesDir)\n",
    "random.shuffle(positiveSamplesFilenameList)\n",
    "random.shuffle(negativeSamplesFilenameList)\n",
    "numPositiveSamples = len(positiveSamplesFilenameList)\n",
    "numNegativeSamples = len(negativeSamplesFilenameList)\n",
    "\n",
    "if numPositiveSamples > numNegativeSamples:\n",
    "    positiveSamplesFilenameList = positiveSamplesFilenameList[:numNegativeSamples]\n",
    "    numPositiveSamples = len(positiveSamplesFilenameList)\n",
    "elif numNegativeSamples > numPositiveSamples:\n",
    "    negativeSamplesFilenameList = negativeSamplesFilenameList[:numPositiveSamples]\n",
    "    numNegativeSamples = len(negativeSamplesFilenameList)\n",
    "assert(numPositiveSamples == numNegativeSamples)\n",
    "    \n",
    "numSamples = numPositiveSamples + numNegativeSamples\n",
    "\n",
    "numTrainSamples = math.floor(numSamples*trainRatio)\n",
    "numTestSamples = math.floor(numSamples*testRatio)\n",
    "numValSamples = math.floor(numSamples*valRatio)\n",
    "\n",
    "\n",
    "unsortedSamplesInfo = {'posDir':unsortedPositiveSamplesDir, 'negDir':unsortedNegativeSamplesDir, 'posFilenameList':positiveSamplesFilenameList,\n",
    "                       'negFilenameList':negativeSamplesFilenameList}\n",
    "\n",
    "trainCopyInfo = {'num':numTrainSamples, 'posDir':trainPositiveDir, 'negDir':trainNegativeDir}\n",
    "testCopyInfo = {'num':numTestSamples, 'posDir':testPositiveDir, 'negDir':testNegativeDir}\n",
    "valCopyInfo = {'num':numValSamples, 'posDir':valPositiveDir, 'negDir':valNegativeDir}\n",
    "\n",
    "def copyImagesInPartition(unsortedSamplesInfo:dict, partitionCopyInfo:dict):\n",
    "    for _ in range(math.floor(partitionCopyInfo['num']*positiveRatio)):\n",
    "        copyImage(unsortedSamplesInfo['posFilenameList'], unsortedSamplesInfo['posDir'], partitionCopyInfo['posDir'])\n",
    "    for _ in range(math.floor(partitionCopyInfo['num']*(1. - positiveRatio))):\n",
    "        copyImage(unsortedSamplesInfo['negFilenameList'], unsortedSamplesInfo['negDir'], partitionCopyInfo['negDir'])\n",
    "\n",
    "def copyImage(sampleFilenameList, srcDir, dstDir):\n",
    "    filename = sampleFilenameList.pop()\n",
    "    src = os.path.join(srcDir, filename)\n",
    "    dst = os.path.join(dstDir, filename)\n",
    "    try:\n",
    "        shutil.copyfile(src, dst)\n",
    "    except PermissionError: # Ignores straggler files such as notebook checkpoints\n",
    "        pass\n",
    "\n",
    "sampleDirectorySizes = [len(directory) for directory in [\n",
    "    os.listdir(trainPositiveDir), os.listdir(trainNegativeDir), os.listdir(testPositiveDir), os.listdir(testNegativeDir),\n",
    "    os.listdir(testPositiveDir), os.listdir(testNegativeDir)]]\n",
    "\n",
    "if all(size == 0 for size in sampleDirectorySizes):\n",
    "    copyImagesInPartition(unsortedSamplesInfo, trainCopyInfo)\n",
    "    copyImagesInPartition(unsortedSamplesInfo, testCopyInfo)\n",
    "    copyImagesInPartition(unsortedSamplesInfo, valCopyInfo)\n",
    "else:\n",
    "    raise Exception(\"Sorted image directories are not empty.\")\n",
    "\n",
    "# TRASH: Is this actually more readable than the functions above?\n",
    "\"\"\"\n",
    "if all(size == 0 for size in sampleDirectorySizes):\n",
    "    for _ in range(math.floor(numTrainSamples*positiveRatio)):\n",
    "        filename = positiveSamplesFilenameList.pop()\n",
    "        src = os.path.join(unsortedPositiveSamplesDir, filename)\n",
    "        dst = os.path.join(trainPositiveDir, filename)\n",
    "        shutil.copyfile(src, dst)\n",
    "\n",
    "    for _ in range(math.floor(numTrainSamples*(1. - positiveRatio))):\n",
    "        filename = negativeSamplesFilenameList.pop()\n",
    "        src = os.path.join(unsortedNegativeSamplesDir, filename)\n",
    "        dst = os.path.join(trainNegativeDir, filename)\n",
    "        shutil.copyfile(src, dst)\n",
    "\n",
    "    for _ in range(math.floor(numTestSamples*positiveRatio)):\n",
    "        filename = positiveSamplesFilenameList.pop()\n",
    "        src = os.path.join(unsortedPositiveSamplesDir, filename)\n",
    "        dst = os.path.join(testPositiveDir, filename)\n",
    "        shutil.copyfile(src, dst)\n",
    "\n",
    "    for _ in range(math.floor(numTestSamples*(1. - positiveRatio))):\n",
    "        filename = negativeSamplesFilenameList.pop()\n",
    "        src = os.path.join(unsortedNegativeSamplesDir, filename)\n",
    "        dst = os.path.join(testNegativeDir, filename)\n",
    "        shutil.copyfile(src, dst)\n",
    "\n",
    "    for _ in range(math.floor(numValSamples*positiveRatio)):\n",
    "        filename = positiveSamplesFilenameList.pop()\n",
    "        src = os.path.join(unsortedPositiveSamplesDir, filename)\n",
    "        dst = os.path.join(valPositiveDir, filename)\n",
    "        shutil.copyfile(src, dst)\n",
    "\n",
    "    for _ in range(math.floor(numValSamples*(1. - positiveRatio))):\n",
    "        filename = negativeSamplesFilenameList.pop()\n",
    "        src = os.path.join(unsortedNegativeSamplesDir, filename)\n",
    "        dst = os.path.join(valNegativeDir, filename)\n",
    "        shutil.copyfile(src, dst)\n",
    "else:\n",
    "    raise Exception(\"Sorted image directories are not empty.\")\"\"\""
   ]
  },
  {
   "cell_type": "markdown",
   "id": "0b820981-9e6d-452e-8c2a-87527c8a67b7",
   "metadata": {},
   "source": [
    "[*Optional*]: Test whether a sample handful of the images were copied to the correct folders"
   ]
  },
  {
   "cell_type": "code",
   "execution_count": 7,
   "id": "fbcc446d-f176-4b97-810a-cf7d7883aac3",
   "metadata": {},
   "outputs": [],
   "source": [
    "##\n",
    "runImageCopyTest = False\n",
    "\n",
    "comparisonSampleSize = 50\n",
    "imageFiletype = 'png'\n",
    "##\n",
    "\n",
    "if runImageCopyTest:\n",
    "    # These must be redefined here since they were popped\n",
    "    positiveSamplesFilenameList = os.listdir(unsortedPositiveSamplesDir)\n",
    "    negativeSamplesFilenameList = os.listdir(unsortedNegativeSamplesDir)\n",
    "\n",
    "    sortedTrainPositiveFilenameList = os.listdir(trainPositiveDir)\n",
    "    sortedTrainNegativeFilenameList = os.listdir(trainNegativeDir)\n",
    "    sortedTestPositiveFilenameList = os.listdir(testPositiveDir)\n",
    "    sortedTestNegativeFilenameList = os.listdir(testNegativeDir)\n",
    "    sortedValPositiveFilenameList = os.listdir(valPositiveDir)\n",
    "    sortedValNegativeFilenameList = os.listdir(valNegativeDir)\n",
    "    random.shuffle(sortedTrainPositiveFilenameList)\n",
    "    random.shuffle(sortedTrainNegativeFilenameList)\n",
    "    random.shuffle(sortedTestPositiveFilenameList)\n",
    "    random.shuffle(sortedTestNegativeFilenameList)\n",
    "    random.shuffle(sortedValPositiveFilenameList)\n",
    "    random.shuffle(sortedValNegativeFilenameList)\n",
    "\n",
    "    allPositiveFilenameLists = [sortedTrainPositiveFilenameList, sortedTestPositiveFilenameList, sortedValPositiveFilenameList]\n",
    "    allNegativeFilenameLists = [sortedTrainNegativeFilenameList, sortedTestNegativeFilenameList, sortedValNegativeFilenameList]\n",
    "\n",
    "    def matchesImageFiletype(sampleFilename : str, imageFiletype : str): # Needed to ignore straggler files such as notebook checkpoints\n",
    "        return sampleFilename[:len(imageFiletype)] == imageFiletype\n",
    "\n",
    "    for fList in allPositiveFilenameLists:\n",
    "        assert(all(sampleFilename in positiveSamplesFilenameList\n",
    "                   for sampleFilename in fList[:comparisonSampleSize]\n",
    "                   if matchesImageFiletype(sampleFilename, imageFiletype)))\n",
    "    for fList in allNegativeFilenameLists:\n",
    "        assert(all(sampleFilename in negativeSamplesFilenameList\n",
    "                   for sampleFilename in fList[:comparisonSampleSize]\n",
    "                   if matchesImageFiletype(sampleFilename, imageFiletype)))\n",
    "    print('Test was succesful!')"
   ]
  },
  {
   "cell_type": "markdown",
   "id": "3f2c43ac-71fa-40e3-b850-d0a924b2bd75",
   "metadata": {},
   "source": [
    "### 1.3 Data generators\n",
    "\n",
    "The data generators themselves can rescale the input pixel values to the [0, 1] range. Note that the pretrained baseline models expect certain kinds of input - Respectively, EfficientNet excepts pixel floats in the [0-255] range to be passed through the keras.applications.resnet_v2.preprocess_input() function, and ResNet expects its input to be raw, which will have its pixel values rescaled to the (-1, 1) range. Thus, a seperate set of data generators are made for them which do net rescale their input."
   ]
  },
  {
   "cell_type": "code",
   "execution_count": 8,
   "id": "812df1dd",
   "metadata": {},
   "outputs": [
    {
     "name": "stdout",
     "output_type": "stream",
     "text": [
      "Found 2121 images belonging to 2 classes.\n",
      "Found 706 images belonging to 2 classes.\n"
     ]
    }
   ],
   "source": [
    "trainDataGeneratorFactory, testDataGeneratorFactory = keras.preprocessing.image.ImageDataGenerator(rescale=1./255), img.ImageDataGenerator(rescale=1./255)\n",
    "trainDataGenerator = trainDataGeneratorFactory.flow_from_directory( # Batch generator\n",
    "    trainDir,\n",
    "    target_size = (150, 150), # TODO: What size do I want?\n",
    "    batch_size = 75,\n",
    "    class_mode = 'binary')\n",
    "testDataGenerator = testDataGeneratorFactory.flow_from_directory(\n",
    "    valDir,\n",
    "    target_size = (150, 150),\n",
    "    batch_size = 75,\n",
    "    class_mode = 'binary')\n",
    "\n",
    "BaselineTrainDataGeneratorFactory, BaselineTestDataGeneratorFactory = keras.preprocessing.image.ImageDataGenerator(), img.ImageDataGenerator()\n",
    "BaselineTrainDataGenerator = BaselineTrainDataGeneratorFactory.flow_from_directory( # Batch generator\n",
    "    trainDir,\n",
    "    target_size = (150, 150), # TODO: What size do I want?\n",
    "    batch_size = 75,\n",
    "    class_mode = 'binary')\n",
    "BaselineTestDataGenerator = BaselineTestDataGeneratorFactory.flow_from_directory(\n",
    "    valDir,\n",
    "    target_size = (150, 150),\n",
    "    batch_size = 75,\n",
    "    class_mode = 'binary')"
   ]
  },
  {
   "cell_type": "markdown",
   "id": "16640509-5c84-4ce2-875b-efc0b1282497",
   "metadata": {},
   "source": [
    "## 2 Baseline model implementation"
   ]
  },
  {
   "cell_type": "markdown",
   "id": "25f9c6cc-38d9-4389-bd9a-a6d66f6d94b3",
   "metadata": {},
   "source": [
    "### 2.1 Implementation of untuned but pretrained EfficientNet and ResNet"
   ]
  },
  {
   "cell_type": "code",
   "execution_count": 22,
   "id": "9a878253-c77a-43a5-802a-b7237f60d526",
   "metadata": {},
   "outputs": [],
   "source": [
    "#device = torch.device(\"cuda\") if torch.cuda.is_available() else torch.device(\"cpu\")\n",
    "#print(f'Using {device}.')\n",
    "\n",
    "#torch.hub.load('NVIDIA/DeepLearningExamples:torchhub', 'nvidia_efficientnet_widese_b0', pretrained=True')\n",
    "\n",
    "efficientNetB0 = keras.applications.efficientnet.EfficientNetB0(\n",
    "    include_top = False,\n",
    "    input_shape = (150, 150, 3), # Input to pretrained model must have 3 channels\n",
    "    weights = 'imagenet',\n",
    "    pooling = 'avg')\n",
    "resNet50V2 = keras.applications.resnet_v2.ResNet50V2(\n",
    "    include_top = False,\n",
    "    input_shape = (150, 150, 3), # Input to pretrained model must have 3 channels\n",
    "    weights = 'imagenet',\n",
    "    pooling = 'avg')\n",
    "\n",
    "# keras.applications.resnet_v2.preprocess_input()\n",
    "# When exactly should this be implemented?"
   ]
  },
  {
   "cell_type": "markdown",
   "id": "b666a057-ace4-4ef7-8cf9-19ee08c7f8d1",
   "metadata": {},
   "source": [
    "### 2.2 Training and testing of EfficientNet baseline "
   ]
  },
  {
   "cell_type": "code",
   "execution_count": null,
   "id": "91db39f8-cf59-4120-b15c-b9b4574f577c",
   "metadata": {},
   "outputs": [],
   "source": []
  }
 ],
 "metadata": {
  "kernelspec": {
   "display_name": "Python [conda env:dataScience] *",
   "language": "python",
   "name": "conda-env-dataScience-py"
  },
  "language_info": {
   "codemirror_mode": {
    "name": "ipython",
    "version": 3
   },
   "file_extension": ".py",
   "mimetype": "text/x-python",
   "name": "python",
   "nbconvert_exporter": "python",
   "pygments_lexer": "ipython3",
   "version": "3.9.7"
  }
 },
 "nbformat": 4,
 "nbformat_minor": 5
}
