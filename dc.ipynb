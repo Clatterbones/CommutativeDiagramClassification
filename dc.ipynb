{
 "cells": [
  {
   "cell_type": "markdown",
   "id": "b65c1f28",
   "metadata": {},
   "source": [
    "# Binary classification of commutative diagrams\n",
    "## 1. Data pipeline"
   ]
  },
  {
   "cell_type": "code",
   "execution_count": 17,
   "id": "b087f593",
   "metadata": {},
   "outputs": [],
   "source": [
    "import pandas as pd\n",
    "import numpy as np\n",
    "import os\n",
    "import shutil\n",
    "import random\n",
    "import math\n",
    "from tensorflow.keras.preprocessing import image as img"
   ]
  },
  {
   "cell_type": "markdown",
   "id": "f1fbf2aa",
   "metadata": {},
   "source": [
    "### 1.1 Expand working directory with folders for training images"
   ]
  },
  {
   "cell_type": "code",
   "execution_count": 28,
   "id": "551ef7f0",
   "metadata": {},
   "outputs": [],
   "source": [
    "## Set unsorted directory name here\n",
    "unsortedSamplesDirName = 'png-2021-all_contexts'\n",
    "##\n",
    "\n",
    "cwd = os.getcwd()\n",
    "\n",
    "unsortedSamplesDir = os.path.join(cwd, unsortedSamplesDirName)\n",
    "assert('positive' in os.listdir(unsortedSamplesDir) and 'negative' in os.listdir(unsortedSamplesDir))\n",
    "unsortedPositiveSamplesDir = os.path.join(unsortedSamplesDir, 'positive')\n",
    "unsortedNegativeSamplesDir = os.path.join(unsortedSamplesDir, 'negative')\n",
    "\n",
    "sortedSamplesDir = os.path.join(cwd, 'sortedSamples')\n",
    "os.makedirs(sortedSamplesDir, exist_ok=True)\n",
    "\n",
    "trainDir = os.path.join(sortedSamplesDir, 'train')\n",
    "testDir = os.path.join(sortedSamplesDir, 'test')\n",
    "valDir = os.path.join(sortedSamplesDir, 'val')\n",
    "os.makedirs(trainDir, exist_ok=True)\n",
    "os.makedirs(testDir, exist_ok=True)\n",
    "os.makedirs(valDir, exist_ok=True)\n",
    "\n",
    "trainPositiveDir = os.path.join(trainDir, 'positive')\n",
    "trainNegativeDir = os.path.join(trainDir, 'negative')\n",
    "testPositiveDir = os.path.join(testDir, 'positive')\n",
    "testNegativeDir = os.path.join(testDir, 'negative')\n",
    "valPositiveDir = os.path.join(valDir, 'positive')\n",
    "valNegativeDir = os.path.join(valDir, 'negative')\n",
    "os.makedirs(trainPositiveDir, exist_ok=True)\n",
    "os.makedirs(trainNegativeDir, exist_ok=True)\n",
    "os.makedirs(testPositiveDir, exist_ok=True)\n",
    "os.makedirs(testNegativeDir, exist_ok=True)\n",
    "os.makedirs(valPositiveDir, exist_ok=True)\n",
    "os.makedirs(valNegativeDir, exist_ok=True)"
   ]
  },
  {
   "cell_type": "markdown",
   "id": "b3344b2e-0d63-41d6-aafa-eac29f9b7005",
   "metadata": {
    "tags": []
   },
   "source": [
    "### 1.2 Copy images into train, test and validation folders\n",
    "The code currently randomly truncates the greater partition between positive and negative to achieve parity."
   ]
  },
  {
   "cell_type": "code",
   "execution_count": 29,
   "id": "a8afd1c9-8b49-43ba-83b9-e9c9588b7788",
   "metadata": {},
   "outputs": [
    {
     "data": {
      "text/plain": [
       "'\\nif all(size == 0 for size in sampleDirectorySizes):\\n    for _ in range(math.floor(numTrainSamples*positiveRatio)):\\n        filename = positiveSamplesFilenameList.pop()\\n        src = os.path.join(unsortedPositiveSamplesDir, filename)\\n        dst = os.path.join(trainPositiveDir, filename)\\n        shutil.copyfile(src, dst)\\n\\n    for _ in range(math.floor(numTrainSamples*(1. - positiveRatio))):\\n        filename = negativeSamplesFilenameList.pop()\\n        src = os.path.join(unsortedNegativeSamplesDir, filename)\\n        dst = os.path.join(trainNegativeDir, filename)\\n        shutil.copyfile(src, dst)\\n\\n    for _ in range(math.floor(numTestSamples*positiveRatio)):\\n        filename = positiveSamplesFilenameList.pop()\\n        src = os.path.join(unsortedPositiveSamplesDir, filename)\\n        dst = os.path.join(testPositiveDir, filename)\\n        shutil.copyfile(src, dst)\\n\\n    for _ in range(math.floor(numTestSamples*(1. - positiveRatio))):\\n        filename = negativeSamplesFilenameList.pop()\\n        src = os.path.join(unsortedNegativeSamplesDir, filename)\\n        dst = os.path.join(testNegativeDir, filename)\\n        shutil.copyfile(src, dst)\\n\\n    for _ in range(math.floor(numValSamples*positiveRatio)):\\n        filename = positiveSamplesFilenameList.pop()\\n        src = os.path.join(unsortedPositiveSamplesDir, filename)\\n        dst = os.path.join(valPositiveDir, filename)\\n        shutil.copyfile(src, dst)\\n\\n    for _ in range(math.floor(numValSamples*(1. - positiveRatio))):\\n        filename = negativeSamplesFilenameList.pop()\\n        src = os.path.join(unsortedNegativeSamplesDir, filename)\\n        dst = os.path.join(valNegativeDir, filename)\\n        shutil.copyfile(src, dst)\\nelse:\\n    raise Exception(\"Sorted image directories are not empty.\")'"
      ]
     },
     "execution_count": 29,
     "metadata": {},
     "output_type": "execute_result"
    }
   ],
   "source": [
    "## Set train- and test set relative size here, as well as desired ratio of positive samples\n",
    "trainRatio = 0.6\n",
    "testRatio = 0.2\n",
    "valRatio = 0.2\n",
    "assert(trainRatio + testRatio + valRatio == 1.)\n",
    "\n",
    "positiveRatio = 0.5 # Desired ratio of positive samples in the sorted data\n",
    "##\n",
    "\n",
    "\n",
    "positiveSamplesFilenameList = os.listdir(unsortedPositiveSamplesDir)\n",
    "negativeSamplesFilenameList = os.listdir(unsortedNegativeSamplesDir)\n",
    "random.shuffle(positiveSamplesFilenameList)\n",
    "random.shuffle(negativeSamplesFilenameList)\n",
    "numPositiveSamples = len(positiveSamplesFilenameList)\n",
    "numNegativeSamples = len(negativeSamplesFilenameList)\n",
    "\n",
    "if numPositiveSamples > numNegativeSamples:\n",
    "    positiveSamplesFilenameList = positiveSamplesFilenameList[:numNegativeSamples]\n",
    "    numPositiveSamples = len(positiveSamplesFilenameList)\n",
    "elif numNegativeSamples > numPositiveSamples:\n",
    "    negativeSamplesFilenameList = negativeSamplesFilenameList[:numPositiveSamples]\n",
    "    numNegativeSamples = len(negativeSamplesFilenameList)\n",
    "assert(numPositiveSamples == numNegativeSamples)\n",
    "    \n",
    "numSamples = numPositiveSamples + numNegativeSamples\n",
    "\n",
    "numTrainSamples = math.floor(numSamples*trainRatio)\n",
    "numTestSamples = math.floor(numSamples*testRatio)\n",
    "numValSamples = math.floor(numSamples*valRatio)\n",
    "\n",
    "\n",
    "unsortedSamplesInfo = {'posDir':unsortedPositiveSamplesDir, 'negDir':unsortedNegativeSamplesDir, 'posFilenameList':positiveSamplesFilenameList,\n",
    "                       'negFilenameList':negativeSamplesFilenameList}\n",
    "\n",
    "trainCopyInfo = {'num':numTrainSamples, 'posDir':trainPositiveDir, 'negDir':trainNegativeDir}\n",
    "testCopyInfo = {'num':numTestSamples, 'posDir':testPositiveDir, 'negDir':testNegativeDir}\n",
    "valCopyInfo = {'num':numValSamples, 'posDir':valPositiveDir, 'negDir':valNegativeDir}\n",
    "\n",
    "def copyImagesInPartition(unsortedSamplesInfo:dict, partitionCopyInfo:dict):\n",
    "    for _ in range(math.floor(partitionCopyInfo['num']*positiveRatio)):\n",
    "        copyImage(unsortedSamplesInfo['posFilenameList'], unsortedSamplesInfo['posDir'], partitionCopyInfo['posDir'])\n",
    "    for _ in range(math.floor(partitionCopyInfo['num']*(1. - positiveRatio))):\n",
    "        copyImage(unsortedSamplesInfo['negFilenameList'], unsortedSamplesInfo['negDir'], partitionCopyInfo['negDir'])\n",
    "\n",
    "def copyImage(sampleFilenameList, srcDir, dstDir):\n",
    "    filename = sampleFilenameList.pop()\n",
    "    src = os.path.join(srcDir, filename)\n",
    "    dst = os.path.join(dstDir, filename)\n",
    "    try:\n",
    "        shutil.copyfile(src, dst)\n",
    "    except PermissionError: # Ignores straggler files such as notebook checkpoints\n",
    "        pass\n",
    "\n",
    "sampleDirectorySizes = [len(directory) for directory in [\n",
    "    os.listdir(trainPositiveDir), os.listdir(trainNegativeDir), os.listdir(testPositiveDir), os.listdir(testNegativeDir),\n",
    "    os.listdir(testPositiveDir), os.listdir(testNegativeDir)]]\n",
    "\n",
    "if all(size == 0 for size in sampleDirectorySizes):\n",
    "    copyImagesInPartition(unsortedSamplesInfo, trainCopyInfo)\n",
    "    copyImagesInPartition(unsortedSamplesInfo, testCopyInfo)\n",
    "    copyImagesInPartition(unsortedSamplesInfo, valCopyInfo)\n",
    "else:\n",
    "    raise Exception(\"Sorted image directories are not empty.\")\n",
    "\n",
    "# TRASH: Is this actually more readable than the functions above?\n",
    "\"\"\"\n",
    "if all(size == 0 for size in sampleDirectorySizes):\n",
    "    for _ in range(math.floor(numTrainSamples*positiveRatio)):\n",
    "        filename = positiveSamplesFilenameList.pop()\n",
    "        src = os.path.join(unsortedPositiveSamplesDir, filename)\n",
    "        dst = os.path.join(trainPositiveDir, filename)\n",
    "        shutil.copyfile(src, dst)\n",
    "\n",
    "    for _ in range(math.floor(numTrainSamples*(1. - positiveRatio))):\n",
    "        filename = negativeSamplesFilenameList.pop()\n",
    "        src = os.path.join(unsortedNegativeSamplesDir, filename)\n",
    "        dst = os.path.join(trainNegativeDir, filename)\n",
    "        shutil.copyfile(src, dst)\n",
    "\n",
    "    for _ in range(math.floor(numTestSamples*positiveRatio)):\n",
    "        filename = positiveSamplesFilenameList.pop()\n",
    "        src = os.path.join(unsortedPositiveSamplesDir, filename)\n",
    "        dst = os.path.join(testPositiveDir, filename)\n",
    "        shutil.copyfile(src, dst)\n",
    "\n",
    "    for _ in range(math.floor(numTestSamples*(1. - positiveRatio))):\n",
    "        filename = negativeSamplesFilenameList.pop()\n",
    "        src = os.path.join(unsortedNegativeSamplesDir, filename)\n",
    "        dst = os.path.join(testNegativeDir, filename)\n",
    "        shutil.copyfile(src, dst)\n",
    "\n",
    "    for _ in range(math.floor(numValSamples*positiveRatio)):\n",
    "        filename = positiveSamplesFilenameList.pop()\n",
    "        src = os.path.join(unsortedPositiveSamplesDir, filename)\n",
    "        dst = os.path.join(valPositiveDir, filename)\n",
    "        shutil.copyfile(src, dst)\n",
    "\n",
    "    for _ in range(math.floor(numValSamples*(1. - positiveRatio))):\n",
    "        filename = negativeSamplesFilenameList.pop()\n",
    "        src = os.path.join(unsortedNegativeSamplesDir, filename)\n",
    "        dst = os.path.join(valNegativeDir, filename)\n",
    "        shutil.copyfile(src, dst)\n",
    "else:\n",
    "    raise Exception(\"Sorted image directories are not empty.\")\"\"\""
   ]
  },
  {
   "cell_type": "markdown",
   "id": "0b820981-9e6d-452e-8c2a-87527c8a67b7",
   "metadata": {},
   "source": [
    "[*Optional*]: Test whether a sample handful of the images were copied to the correct folder"
   ]
  },
  {
   "cell_type": "code",
   "execution_count": 30,
   "id": "fbcc446d-f176-4b97-810a-cf7d7883aac3",
   "metadata": {},
   "outputs": [],
   "source": [
    "## Set number of images to be checked per folder here\n",
    "comparisonSampleSize = 50\n",
    "imageFiletype = 'png'\n",
    "##\n",
    "\n",
    "# These must be redefined here since they were popped\n",
    "positiveSamplesFilenameList = os.listdir(unsortedPositiveSamplesDir)\n",
    "negativeSamplesFilenameList = os.listdir(unsortedNegativeSamplesDir)\n",
    "\n",
    "sortedTrainPositiveFilenameList = os.listdir(trainPositiveDir)\n",
    "random.shuffle(sortedTrainPositiveFilenameList)\n",
    "sortedTrainNegativeFilenameList = os.listdir(trainNegativeDir)\n",
    "random.shuffle(sortedTrainNegativeFilenameList)\n",
    "sortedTestPositiveFilenameList = os.listdir(testPositiveDir)\n",
    "random.shuffle(sortedTestPositiveFilenameList)\n",
    "sortedTestNegativeFilenameList = os.listdir(testNegativeDir)\n",
    "random.shuffle(sortedTestNegativeFilenameList)\n",
    "sortedValPositiveFilenameList = os.listdir(valPositiveDir)\n",
    "random.shuffle(sortedValPositiveFilenameList)\n",
    "sortedValNegativeFilenameList = os.listdir(valNegativeDir)\n",
    "random.shuffle(sortedValNegativeFilenameList)\n",
    "\n",
    "allPositiveFilenameLists = [sortedTrainPositiveFilenameList, sortedTestPositiveFilenameList, sortedValPositiveFilenameList]\n",
    "allNegativeFilenameLists = [sortedTrainNegativeFilenameList, sortedTestNegativeFilenameList, sortedValNegativeFilenameList]\n",
    "\n",
    "def matchesImageFiletype(sampleFilename : str, imageFiletype : str): # Needed to ignore straggler files such as notebook checkpoints\n",
    "    return sampleFilename[:len(imageFiletype)] == imageFiletype\n",
    "\n",
    "for fList in allPositiveFilenameLists:\n",
    "    assert(all(sampleFilename in positiveSamplesFilenameList for sampleFilename in fList[:comparisonSampleSize] if matchesImageFiletype(sampleFilename, imageFiletype)))\n",
    "for fList in allNegativeFilenameLists:\n",
    "    assert(all(sampleFilename in negativeSamplesFilenameList for sampleFilename in fList[:comparisonSampleSize] if matchesImageFiletype(sampleFilename, imageFiletype)))"
   ]
  },
  {
   "cell_type": "code",
   "execution_count": null,
   "id": "812df1dd",
   "metadata": {},
   "outputs": [],
   "source": [
    "imageDataGenerator = img.ImageDataGenerator(rescale=1./255)\n",
    "dataGenerator = imageDataGenerator.flow_from_directory(\n",
    "    \n",
    ")"
   ]
  }
 ],
 "metadata": {
  "kernelspec": {
   "display_name": "Python [conda env:dataScience] *",
   "language": "python",
   "name": "conda-env-dataScience-py"
  },
  "language_info": {
   "codemirror_mode": {
    "name": "ipython",
    "version": 3
   },
   "file_extension": ".py",
   "mimetype": "text/x-python",
   "name": "python",
   "nbconvert_exporter": "python",
   "pygments_lexer": "ipython3",
   "version": "3.9.7"
  }
 },
 "nbformat": 4,
 "nbformat_minor": 5
}
